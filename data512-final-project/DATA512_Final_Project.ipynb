{
 "cells": [
  {
   "cell_type": "markdown",
   "metadata": {},
   "source": [
    "# Seattle - A Story of Growth\n",
    "## Building Permits Data Analysis"
   ]
  },
  {
   "cell_type": "markdown",
   "metadata": {},
   "source": [
    "Priyanka Mhatre  \n",
    "DATA 512 Human Centered Data Science  \n",
    "A6: Final Project  \n",
    "University of Washington, Fall 2018  "
   ]
  },
  {
   "cell_type": "markdown",
   "metadata": {},
   "source": [
    "### Introduction"
   ]
  },
  {
   "cell_type": "markdown",
   "metadata": {},
   "source": [
    "According to a recent [article](https://www.seattletimes.com/seattle-news/data/114000-more-people-seattle-now-this-decades-fastest-growing-big-city-in-all-of-united-states/) in *“The Seattle Times”*, Seattle is now the decade’s fastest-growing big city in the United States. As of July 2017, Seattle has grown by a staggering 18.7 percent in the last seven years which ranks as the fastest rate of growth among the 50 largest U.S. cities<sup>[1](https://www.seattletimes.com/seattle-news/data/114000-more-people-seattle-now-this-decades-fastest-growing-big-city-in-all-of-united-states/)</sup>. Another interesting way of measuring the growth of the city can be in terms of the number of new construction projects. The constant sight of construction cranes has now become an integral part of Seattle’s skyline. \n",
    "  \n",
    "The [Seattle Department of Construction and Inspections (SDCI)](http://www.seattle.gov/sdci) has made available the data on building permits to the public through the [Open Data Program](http://www.seattle.gov/tech/initiatives/open-data). The dataset includes all building permits issued or in progress within the city of Seattle since 1986.\n",
    "  \n",
    "For my final project for DATA 512: Human Centered Data Science, I analyzed this dataset in order to gain a better understanding of the growth of Seattle in terms of real estate. I hope to discover some interesting trends or patterns from the data and find answers to some specific research questions listed [here](#research).  "
   ]
  },
  {
   "cell_type": "markdown",
   "metadata": {},
   "source": [
    "### Motivation\n",
    "\n",
    "I moved to the city of Seattle in 2017 and have seen it grow explosively in the last one year. After reading recent news articles on the construction boom happening in Seattle, I have been intrigued by the rapid growth of the city. It am interested in analyzing the different ways in which the city is growing.   \n",
    "  \n",
    "My analysis can be useful to any resident of Seattle who is interested in investing their hard-earned money in real estate by identifying the fast-growing regions within Seattle. This analysis can also be useful to the city of Seattle government to gain an overview of the recent development in different neighborhoods of Seattle which can be helpful for urban planning including transportation, roads, recreation areas, traffic management and other services."
   ]
  },
  {
   "cell_type": "markdown",
   "metadata": {},
   "source": [
    "### <a name=\"research\"></a>Research Questions\n",
    "  \n",
    "The two primary research questions for my analysis are:  \n",
    "  \n",
    "1)\tHow has the city grown in the last two decades?  \n",
    "2)\tWhich are the fastest growing neighborhoods within Seattle?  \n",
    "  \n",
    "This study is more of an exploratory analysis to discover interesting patterns and insights from the data. It is also aims to test the hypothesis that Seattle has grown rapidly in the past five years and continues to grow at an increasing rate.  "
   ]
  },
  {
   "cell_type": "markdown",
   "metadata": {},
   "source": [
    "### <a name=\"data_sources\"></a>Data Sources\n",
    "\n",
    "We will be using the below two data sources for this analysis:\n",
    "  \n",
    "**1) Building Permits Data:**  \n",
    "  \n",
    "The main dataset used for this analysis is the Building Permits data made publicly available by the City of Seattle on their [website](https://data.seattle.gov/Permitting/Building-Permits/76t5-zqzr).  \n",
    "The dataset has around 120K rows and 24 columns. The dataset is updated on a daily basis and can be accessed via the [Socrate API](https://dev.socrata.com/foundry/data.seattle.gov/k44w-2dcq). It can also be directly downloaded as a csv from the same API website under the Download & Export section. Please note that if you choose to download the latest file from the website, it will have additional data and the inferences made in this analysis may change accordingly. \n",
    "  \n",
    "Due to limitations on size, I could not upload this file to the github repository. To reproduce the exact same analysis, you can use intermediate data files listed below which are available under the data folder.\n",
    "  \n",
    "For more information about the API and dataset, refer : https://dev.socrata.com/foundry/data.seattle.gov/k44w-2dcq  \n",
    "  \n",
    "**2) Seattle Neighborhoods:**  \n",
    "\n",
    "This dataset is used to get the neighborhood names for the building permits. It contains geospatial delineation of neighborhood boundaries used by the City Clerks Office. It is publicly available on the Seattle Government website [here](https://data.seattle.gov/dataset/Neighborhoods/2mbt-aqqx) and can be downloaded directly as a zip file. \n",
    "\n",
    "A downloaded version of this dataset (downloaded on 19 Nov 2018) is included in the data folder of this github repository to enable complete reproducibility.\n",
    "\n",
    "**Intermediate Files**\n",
    "  \n",
    "File name: **data/New_Permits.csv**  \n",
    "This is the original Permits data file after filtering on \"New\" PermitClassDesc.\n",
    "  \n",
    "File name: **data/New_Permits_Cleaned.csv**  \n",
    "This is a cleaned version of the new permits data file above.\n",
    "\n",
    "File name: **data/New_Permits_SubRegions.csv**  \n",
    "This is a file with sub_regions and corresponding counts of new permits since 2011."
   ]
  },
  {
   "cell_type": "markdown",
   "metadata": {},
   "source": [
    "  \n",
    "### Data Limitations\n",
    "The data is about building permits which were submitted to the Seattle Department of Construction (SDCI) for approvals. There is no information about whether the project was completed or not. There might be cases where the permit was issued but the project was scrapped due to some reason. Since I did not find a publicly available dataset having information about completed projects, for the sake of simplicity I will make an assumption that most of the proposed projects with an issued permit were completed.  \n",
    " \n",
    "All results from this analysis need to be interpreted by taking the above assumptions and limitations into account.  "
   ]
  },
  {
   "cell_type": "markdown",
   "metadata": {},
   "source": [
    "### License:\n",
    "\n",
    "1) Building Permits Data: The data is owned by Seattle Department of Construction (SDCI) \n",
    "  \n",
    "2) Neighborhoods Data: The data is provided by Seattle Public Utilities and owned by the Seattle City GIS Program. \n",
    "  \n",
    "Both the datasets above are made available to the public  under the [Public Domain License](https://wiki.creativecommons.org/wiki/Public_domain) which allows free use by anyone for any purpose without restriction under copyright law.  \n",
    "\n",
    "The City of Seattle Government requires the users of this data to include the following disclaimers: \n",
    "\n",
    "*\"The data made available here has been modified for use from its original source, which is the City of Seattle. Neither the City of Seattle nor the Office of the Chief Technology Officer (OCTO) makes any claims as to the completeness, timeliness, accuracy or content of any data contained in this application; makes any representation of any kind, including, but not limited to, warranty of the accuracy or fitness for a particular use; nor are any such warranties to be implied or inferred with respect to the information or data furnished herein. The data is subject to change as modifications and updates are complete. It is understood that the information contained in the web feed is being used at one's own risk.\"*  \n",
    " "
   ]
  },
  {
   "cell_type": "markdown",
   "metadata": {},
   "source": [
    "### Reproducibility\n",
    "  \n",
    "This analysis is designed to be completely reproducible by following the best practices for performing and sharing open research. By following the notebook and instructions below, it is possible for anyone to reproduce this analysis. \n",
    "  \n",
    "For exact reproducibility, clone the repository from github alongwith the data files.  \n",
    "`git clone https://github.com/priyankam22/DATA-512-Human-Centered-Data-Science/tree/master/data512-final-project`"
   ]
  },
  {
   "cell_type": "markdown",
   "metadata": {},
   "source": [
    "Let us start by importing the required python libraries."
   ]
  },
  {
   "cell_type": "markdown",
   "metadata": {},
   "source": [
    "### Initial Setup"
   ]
  },
  {
   "cell_type": "markdown",
   "metadata": {},
   "source": [
    "You will need to download the below python packages if they do not exist in your Python installation."
   ]
  },
  {
   "cell_type": "markdown",
   "metadata": {},
   "source": [
    "If you use pip for package management:\n",
    "\n",
    "`pip install pandas`   \n",
    "`pip install numpy`  \n",
    "`pip install seaborn`  \n",
    "`pip install matplotlib`  \n",
    "\n",
    "`pip install fiona`  \n",
    "`pip install shapely`  \n",
    "`pip install geopandas`\n",
    "\n",
    "  \n",
    "If you have Anaconda installation:\n",
    "  \n",
    "`conda install -c anaconda pandas`    \n",
    "`conda install -c anaconda numpy`  \n",
    "`conda install -c anaconda seaborn`  \n",
    "`conda install -c anaconda matplotlib`\n",
    "\n",
    "`conda install -c conda-forge fiona`    \n",
    "`conda install -c conda-forge shapely`  \n",
    "`conda install -c conda-forge geopandas`"
   ]
  },
  {
   "cell_type": "markdown",
   "metadata": {},
   "source": [
    "### Import python libraries"
   ]
  },
  {
   "cell_type": "markdown",
   "metadata": {},
   "source": [
    "Let's start by importing the required python libraries."
   ]
  },
  {
   "cell_type": "code",
   "execution_count": 1,
   "metadata": {},
   "outputs": [],
   "source": [
    "# Data analysis\n",
    "import pandas as pd\n",
    "import numpy as np\n",
    "\n",
    "# Data Visualization\n",
    "import seaborn as sns\n",
    "import matplotlib.pyplot as plt\n",
    "%matplotlib inline\n",
    "\n",
    "# Spatial data analysis\n",
    "# For analyzing multi-layered GIS formats like shape files\n",
    "import fiona \n",
    "# For manipulation and analysis of geometric objects in the Cartesian plane.\n",
    "from shapely.geometry import Point, shape \n",
    "# For reading geo-spatial data in pandas style\n",
    "import geopandas as gpd\n",
    "\n",
    "# General \n",
    "from datetime import datetime\n",
    "import time\n",
    "import re"
   ]
  },
  {
   "cell_type": "markdown",
   "metadata": {},
   "source": [
    "### Load datasets"
   ]
  },
  {
   "cell_type": "markdown",
   "metadata": {},
   "source": [
    "We will now load the two datasets available in the data folder of this repository. For downloading fresh copies of the data, refer section [Data Sources](#data_sources).\n",
    "\n",
    "**1) Building_Permits.csv : **\n",
    "\n",
    "This is the Building Permits data stored as a csv file.  "
   ]
  },
  {
   "cell_type": "code",
   "execution_count": 2,
   "metadata": {},
   "outputs": [
    {
     "name": "stdout",
     "output_type": "stream",
     "text": [
      "Permits Shape: (119760, 24)\n"
     ]
    }
   ],
   "source": [
    "# Load the permits dataset\n",
    "permits = pd.read_csv('data/Building_Permits.csv')\n",
    "\n",
    "# Check the number of records\n",
    "print(\"Permits Shape:\", permits.shape)"
   ]
  },
  {
   "cell_type": "markdown",
   "metadata": {},
   "source": [
    "There are 119760 total rows in the dataset where each row represents a permit application. There are 24 columns in the dataset."
   ]
  },
  {
   "cell_type": "markdown",
   "metadata": {},
   "source": [
    "**2) Neighborhoods.shp: **\n",
    "    \n",
    "This is the Neighborhoods shape file under the `data\\Neighborhoods\\WGS84` folder. Note that we need all  the other files under the WGS84 folder as well in order to read the shape file as the shape file has dependencies on these files. WGS84 is a standard for representing geospatial data. If you download the Neighborhoods dataset from the website, you will notice another folder 'StatePlane' which can be ignored for this analysis."
   ]
  },
  {
   "cell_type": "code",
   "execution_count": 3,
   "metadata": {},
   "outputs": [
    {
     "name": "stdout",
     "output_type": "stream",
     "text": [
      "Neighborhoods Shape: (119, 13)\n"
     ]
    }
   ],
   "source": [
    "neighborhoods_fn = \"data/Neighborhoods/WGS84/Neighborhoods.shp\"\n",
    "neighborhoods = gpd.read_file(neighborhoods_fn)\n",
    "\n",
    "# Check the number of records\n",
    "print(\"Neighborhoods Shape:\", neighborhoods.shape)"
   ]
  },
  {
   "cell_type": "markdown",
   "metadata": {},
   "source": [
    "There are 119 rows and 13 columns. Each row corresponds to a neighborhood in Seattle. Let us explore the data in more detail."
   ]
  },
  {
   "cell_type": "markdown",
   "metadata": {},
   "source": [
    "### Initial Data Exploration\n",
    "\n",
    "Let's explore the data to get a better understanding of the dataset."
   ]
  },
  {
   "cell_type": "markdown",
   "metadata": {},
   "source": [
    "#### Explore Neighborhoods Data"
   ]
  },
  {
   "cell_type": "code",
   "execution_count": 4,
   "metadata": {},
   "outputs": [
    {
     "data": {
      "text/html": [
       "<div>\n",
       "<style scoped>\n",
       "    .dataframe tbody tr th:only-of-type {\n",
       "        vertical-align: middle;\n",
       "    }\n",
       "\n",
       "    .dataframe tbody tr th {\n",
       "        vertical-align: top;\n",
       "    }\n",
       "\n",
       "    .dataframe thead th {\n",
       "        text-align: right;\n",
       "    }\n",
       "</style>\n",
       "<table border=\"1\" class=\"dataframe\">\n",
       "  <thead>\n",
       "    <tr style=\"text-align: right;\">\n",
       "      <th></th>\n",
       "      <th>OBJECTID</th>\n",
       "      <th>AREA</th>\n",
       "      <th>PERIMETER</th>\n",
       "      <th>HOODS_</th>\n",
       "      <th>HOODS_ID</th>\n",
       "      <th>S_HOOD</th>\n",
       "      <th>L_HOOD</th>\n",
       "      <th>L_HOODID</th>\n",
       "      <th>SYMBOL</th>\n",
       "      <th>SYMBOL2</th>\n",
       "      <th>SHAPE_AREA</th>\n",
       "      <th>SHAPE_LEN</th>\n",
       "      <th>geometry</th>\n",
       "    </tr>\n",
       "  </thead>\n",
       "  <tbody>\n",
       "    <tr>\n",
       "      <th>0</th>\n",
       "      <td>1</td>\n",
       "      <td>3588.443</td>\n",
       "      <td>617.843</td>\n",
       "      <td>2</td>\n",
       "      <td>0</td>\n",
       "      <td>OOO</td>\n",
       "      <td>None</td>\n",
       "      <td>0</td>\n",
       "      <td>0</td>\n",
       "      <td>0</td>\n",
       "      <td>0.0</td>\n",
       "      <td>0.0</td>\n",
       "      <td>POLYGON ((-122.27397895294 47.69522647266366, ...</td>\n",
       "    </tr>\n",
       "    <tr>\n",
       "      <th>1</th>\n",
       "      <td>2</td>\n",
       "      <td>22294.777</td>\n",
       "      <td>733.568</td>\n",
       "      <td>3</td>\n",
       "      <td>0</td>\n",
       "      <td>OOO</td>\n",
       "      <td>None</td>\n",
       "      <td>0</td>\n",
       "      <td>0</td>\n",
       "      <td>0</td>\n",
       "      <td>0.0</td>\n",
       "      <td>0.0</td>\n",
       "      <td>POLYGON ((-122.2875597861966 47.6452274048213,...</td>\n",
       "    </tr>\n",
       "    <tr>\n",
       "      <th>2</th>\n",
       "      <td>3</td>\n",
       "      <td>56695.367</td>\n",
       "      <td>4088.442</td>\n",
       "      <td>5</td>\n",
       "      <td>0</td>\n",
       "      <td>OOO</td>\n",
       "      <td>None</td>\n",
       "      <td>0</td>\n",
       "      <td>0</td>\n",
       "      <td>0</td>\n",
       "      <td>0.0</td>\n",
       "      <td>0.0</td>\n",
       "      <td>POLYGON ((-122.3952908582122 47.66513504453929...</td>\n",
       "    </tr>\n",
       "    <tr>\n",
       "      <th>3</th>\n",
       "      <td>4</td>\n",
       "      <td>64156.813</td>\n",
       "      <td>1809.446</td>\n",
       "      <td>6</td>\n",
       "      <td>0</td>\n",
       "      <td>OOO</td>\n",
       "      <td>None</td>\n",
       "      <td>0</td>\n",
       "      <td>0</td>\n",
       "      <td>0</td>\n",
       "      <td>0.0</td>\n",
       "      <td>0.0</td>\n",
       "      <td>POLYGON ((-122.3983207858678 47.66608770690771...</td>\n",
       "    </tr>\n",
       "    <tr>\n",
       "      <th>4</th>\n",
       "      <td>5</td>\n",
       "      <td>2993.164</td>\n",
       "      <td>250.330</td>\n",
       "      <td>7</td>\n",
       "      <td>0</td>\n",
       "      <td>OOO</td>\n",
       "      <td>None</td>\n",
       "      <td>0</td>\n",
       "      <td>0</td>\n",
       "      <td>0</td>\n",
       "      <td>0.0</td>\n",
       "      <td>0.0</td>\n",
       "      <td>POLYGON ((-122.2885127664105 47.65630022774356...</td>\n",
       "    </tr>\n",
       "  </tbody>\n",
       "</table>\n",
       "</div>"
      ],
      "text/plain": [
       "   OBJECTID       AREA  PERIMETER  HOODS_  HOODS_ID S_HOOD L_HOOD  L_HOODID  \\\n",
       "0         1   3588.443    617.843       2         0    OOO   None         0   \n",
       "1         2  22294.777    733.568       3         0    OOO   None         0   \n",
       "2         3  56695.367   4088.442       5         0    OOO   None         0   \n",
       "3         4  64156.813   1809.446       6         0    OOO   None         0   \n",
       "4         5   2993.164    250.330       7         0    OOO   None         0   \n",
       "\n",
       "   SYMBOL  SYMBOL2  SHAPE_AREA  SHAPE_LEN  \\\n",
       "0       0        0         0.0        0.0   \n",
       "1       0        0         0.0        0.0   \n",
       "2       0        0         0.0        0.0   \n",
       "3       0        0         0.0        0.0   \n",
       "4       0        0         0.0        0.0   \n",
       "\n",
       "                                            geometry  \n",
       "0  POLYGON ((-122.27397895294 47.69522647266366, ...  \n",
       "1  POLYGON ((-122.2875597861966 47.6452274048213,...  \n",
       "2  POLYGON ((-122.3952908582122 47.66513504453929...  \n",
       "3  POLYGON ((-122.3983207858678 47.66608770690771...  \n",
       "4  POLYGON ((-122.2885127664105 47.65630022774356...  "
      ]
     },
     "execution_count": 4,
     "metadata": {},
     "output_type": "execute_result"
    }
   ],
   "source": [
    "neighborhoods.head()"
   ]
  },
  {
   "cell_type": "markdown",
   "metadata": {},
   "source": [
    "We are interested in the geometry column of the neighborhoods dataset. It provides the geographical boundaries for the corresponding neighborhood. This spatial column can be used to map any geographical location described as a spatial point (latitude, longitude) with the corresponding neighborhood."
   ]
  },
  {
   "cell_type": "markdown",
   "metadata": {},
   "source": [
    "The neighborhood names are stored in the L_HOOD (region) and S_HOOD (sub_region) column. Let us check the different values for these columns."
   ]
  },
  {
   "cell_type": "code",
   "execution_count": 5,
   "metadata": {},
   "outputs": [
    {
     "data": {
      "text/plain": [
       "NO BROADER TERM        22\n",
       "WEST SEATTLE            8\n",
       "DOWNTOWN                7\n",
       "RAINIER VALLEY          6\n",
       "DELRIDGE                6\n",
       "CENTRAL AREA            6\n",
       "BALLARD                 5\n",
       "CAPITOL HILL            5\n",
       "LAKE CITY               5\n",
       "NORTHGATE               4\n",
       "QUEEN ANNE              4\n",
       "BEACON HILL             4\n",
       "CASCADE                 3\n",
       "MAGNOLIA                3\n",
       "UNIVERSITY DISTRICT     1\n",
       "INTERBAY                1\n",
       "SEWARD PARK             1\n",
       "Name: L_HOOD, dtype: int64"
      ]
     },
     "execution_count": 5,
     "metadata": {},
     "output_type": "execute_result"
    }
   ],
   "source": [
    "neighborhoods['L_HOOD'].value_counts()"
   ]
  },
  {
   "cell_type": "code",
   "execution_count": 6,
   "metadata": {},
   "outputs": [
    {
     "data": {
      "text/plain": [
       "OOO                       26\n",
       "Industrial District        2\n",
       "Matthews Beach             1\n",
       "North Admiral              1\n",
       "Rainier View               1\n",
       "Briarcliff                 1\n",
       "North Queen Anne           1\n",
       "Southeast Magnolia         1\n",
       "Alki                       1\n",
       "North College Park         1\n",
       "West Queen Anne            1\n",
       "North Delridge             1\n",
       "Ravenna                    1\n",
       "Crown Hill                 1\n",
       "Riverview                  1\n",
       "West Woodland              1\n",
       "Belltown                   1\n",
       "View Ridge                 1\n",
       "Wedgwood                   1\n",
       "University District        1\n",
       "Mann                       1\n",
       "Sunset Hill                1\n",
       "Pinehurst                  1\n",
       "Sand Point                 1\n",
       "Meadowbrook                1\n",
       "Victory Heights            1\n",
       "High Point                 1\n",
       "South Delridge             1\n",
       "Pioneer Square             1\n",
       "Roosevelt                  1\n",
       "                          ..\n",
       "Leschi                     1\n",
       "Seward Park                1\n",
       "Laurelhurst                1\n",
       "Holly Park                 1\n",
       "Westlake                   1\n",
       "Wallingford                1\n",
       "Columbia City              1\n",
       "Fairmount Park             1\n",
       "Phinney Ridge              1\n",
       "North Beach/Blue Ridge     1\n",
       "Windermere                 1\n",
       "Loyal Heights              1\n",
       "Stevens                    1\n",
       "Rainier Beach              1\n",
       "Mount Baker                1\n",
       "Broadview                  1\n",
       "International District     1\n",
       "Minor                      1\n",
       "Genesee                    1\n",
       "Highland Park              1\n",
       "Dunlap                     1\n",
       "Bitter Lake                1\n",
       "Brighton                   1\n",
       "Whittier Heights           1\n",
       "Lower Queen Anne           1\n",
       "Yesler Terrace             1\n",
       "East Queen Anne            1\n",
       "Fremont                    1\n",
       "Fauntleroy                 1\n",
       "Seaview                    1\n",
       "Name: S_HOOD, Length: 91, dtype: int64"
      ]
     },
     "execution_count": 6,
     "metadata": {},
     "output_type": "execute_result"
    }
   ],
   "source": [
    "neighborhoods['S_HOOD'].value_counts()"
   ]
  },
  {
   "cell_type": "markdown",
   "metadata": {},
   "source": [
    "The S_HOOD column represents more granular level neighborhood than L_HOOD. We will analyze data at this sub_region level."
   ]
  },
  {
   "cell_type": "markdown",
   "metadata": {},
   "source": [
    "#### Explore Permits Data"
   ]
  },
  {
   "cell_type": "code",
   "execution_count": 7,
   "metadata": {
    "scrolled": true
   },
   "outputs": [
    {
     "data": {
      "text/html": [
       "<div>\n",
       "<style scoped>\n",
       "    .dataframe tbody tr th:only-of-type {\n",
       "        vertical-align: middle;\n",
       "    }\n",
       "\n",
       "    .dataframe tbody tr th {\n",
       "        vertical-align: top;\n",
       "    }\n",
       "\n",
       "    .dataframe thead th {\n",
       "        text-align: right;\n",
       "    }\n",
       "</style>\n",
       "<table border=\"1\" class=\"dataframe\">\n",
       "  <thead>\n",
       "    <tr style=\"text-align: right;\">\n",
       "      <th></th>\n",
       "      <th>PermitNum</th>\n",
       "      <th>PermitClass</th>\n",
       "      <th>PermitClassMapped</th>\n",
       "      <th>PermitTypeMapped</th>\n",
       "      <th>PermitTypeDesc</th>\n",
       "      <th>Description</th>\n",
       "      <th>HousingUnits</th>\n",
       "      <th>HousingUnitsRemoved</th>\n",
       "      <th>HousingUnitsAdded</th>\n",
       "      <th>EstProjectCost</th>\n",
       "      <th>...</th>\n",
       "      <th>StatusCurrent</th>\n",
       "      <th>OriginalAddress1</th>\n",
       "      <th>OriginalCity</th>\n",
       "      <th>OriginalState</th>\n",
       "      <th>OriginalZip</th>\n",
       "      <th>ContractorCompanyName</th>\n",
       "      <th>Link</th>\n",
       "      <th>Latitude</th>\n",
       "      <th>Longitude</th>\n",
       "      <th>Location_1</th>\n",
       "    </tr>\n",
       "  </thead>\n",
       "  <tbody>\n",
       "    <tr>\n",
       "      <th>0</th>\n",
       "      <td>6086767-CN</td>\n",
       "      <td>Commercial</td>\n",
       "      <td>Non-Residential</td>\n",
       "      <td>Building</td>\n",
       "      <td>New</td>\n",
       "      <td>Phase II of III for construction of a mixed us...</td>\n",
       "      <td>NaN</td>\n",
       "      <td>0.0</td>\n",
       "      <td>0.0</td>\n",
       "      <td>7700000.0</td>\n",
       "      <td>...</td>\n",
       "      <td>Completed</td>\n",
       "      <td>809 OLIVE WAY</td>\n",
       "      <td>SEATTLE</td>\n",
       "      <td>WA</td>\n",
       "      <td>98101.0</td>\n",
       "      <td>WASHINGTON HANOVER,LLC</td>\n",
       "      <td>https://cosaccela.seattle.gov/portal/customize...</td>\n",
       "      <td>47.613975</td>\n",
       "      <td>-122.333528</td>\n",
       "      <td>809 OLIVE WAY\\nSEATTLE, WA 98101\\n(47.61397452...</td>\n",
       "    </tr>\n",
       "    <tr>\n",
       "      <th>1</th>\n",
       "      <td>6654859-CN</td>\n",
       "      <td>Commercial</td>\n",
       "      <td>Non-Residential</td>\n",
       "      <td>Building</td>\n",
       "      <td>NONE</td>\n",
       "      <td>Re-Roof Apartment Building  for Mono Rooftop S...</td>\n",
       "      <td>NaN</td>\n",
       "      <td>NaN</td>\n",
       "      <td>NaN</td>\n",
       "      <td>NaN</td>\n",
       "      <td>...</td>\n",
       "      <td>Issued</td>\n",
       "      <td>201 W OLYMPIC PL</td>\n",
       "      <td>SEATTLE</td>\n",
       "      <td>WA</td>\n",
       "      <td>98119.0</td>\n",
       "      <td>NaN</td>\n",
       "      <td>https://cosaccela.seattle.gov/portal/customize...</td>\n",
       "      <td>47.626438</td>\n",
       "      <td>-122.359578</td>\n",
       "      <td>201 W OLYMPIC PL\\nSEATTLE, WA 98119\\n(47.62643...</td>\n",
       "    </tr>\n",
       "    <tr>\n",
       "      <th>2</th>\n",
       "      <td>6414155-EX</td>\n",
       "      <td>Single Family/Duplex</td>\n",
       "      <td>Residential</td>\n",
       "      <td>Building</td>\n",
       "      <td>Environmentally Critical Area Exemption</td>\n",
       "      <td>Exception/Exemption Request for: CLOSED AS INC...</td>\n",
       "      <td>NaN</td>\n",
       "      <td>NaN</td>\n",
       "      <td>NaN</td>\n",
       "      <td>NaN</td>\n",
       "      <td>...</td>\n",
       "      <td>Completed</td>\n",
       "      <td>6504 24TH AVE SW</td>\n",
       "      <td>SEATTLE</td>\n",
       "      <td>WA</td>\n",
       "      <td>98106.0</td>\n",
       "      <td>NaN</td>\n",
       "      <td>https://cosaccela.seattle.gov/portal/customize...</td>\n",
       "      <td>47.544636</td>\n",
       "      <td>-122.364054</td>\n",
       "      <td>6504 24TH AVE SW\\nSEATTLE, WA 98106\\n(47.54463...</td>\n",
       "    </tr>\n",
       "    <tr>\n",
       "      <th>3</th>\n",
       "      <td>6588866-CN</td>\n",
       "      <td>Commercial</td>\n",
       "      <td>Non-Residential</td>\n",
       "      <td>Building</td>\n",
       "      <td>Addition/Alteration</td>\n",
       "      <td>Construct alterations for accessible ramp at e...</td>\n",
       "      <td>NaN</td>\n",
       "      <td>0.0</td>\n",
       "      <td>0.0</td>\n",
       "      <td>175000.0</td>\n",
       "      <td>...</td>\n",
       "      <td>Corrections Required</td>\n",
       "      <td>2401 UTAH AVE S</td>\n",
       "      <td>SEATTLE</td>\n",
       "      <td>WA</td>\n",
       "      <td>98134.0</td>\n",
       "      <td>NaN</td>\n",
       "      <td>https://cosaccela.seattle.gov/portal/customize...</td>\n",
       "      <td>47.581818</td>\n",
       "      <td>-122.335358</td>\n",
       "      <td>2401 UTAH AVE S\\nSEATTLE, WA 98134\\n(47.581818...</td>\n",
       "    </tr>\n",
       "    <tr>\n",
       "      <th>4</th>\n",
       "      <td>6339570-CN</td>\n",
       "      <td>Commercial</td>\n",
       "      <td>Non-Residential</td>\n",
       "      <td>Building</td>\n",
       "      <td>Addition/Alteration</td>\n",
       "      <td>Alterations to existing retail space (Suite A)...</td>\n",
       "      <td>NaN</td>\n",
       "      <td>0.0</td>\n",
       "      <td>0.0</td>\n",
       "      <td>211118.0</td>\n",
       "      <td>...</td>\n",
       "      <td>Completed</td>\n",
       "      <td>5240 UNIVERSITY WAY NE</td>\n",
       "      <td>SEATTLE</td>\n",
       "      <td>WA</td>\n",
       "      <td>98105.0</td>\n",
       "      <td>NaN</td>\n",
       "      <td>https://cosaccela.seattle.gov/portal/customize...</td>\n",
       "      <td>47.667616</td>\n",
       "      <td>-122.312733</td>\n",
       "      <td>5240 UNIVERSITY WAY NE\\nSEATTLE, WA 98105\\n(47...</td>\n",
       "    </tr>\n",
       "  </tbody>\n",
       "</table>\n",
       "<p>5 rows × 24 columns</p>\n",
       "</div>"
      ],
      "text/plain": [
       "    PermitNum           PermitClass PermitClassMapped PermitTypeMapped  \\\n",
       "0  6086767-CN            Commercial   Non-Residential         Building   \n",
       "1  6654859-CN            Commercial   Non-Residential         Building   \n",
       "2  6414155-EX  Single Family/Duplex       Residential         Building   \n",
       "3  6588866-CN            Commercial   Non-Residential         Building   \n",
       "4  6339570-CN            Commercial   Non-Residential         Building   \n",
       "\n",
       "                            PermitTypeDesc  \\\n",
       "0                                      New   \n",
       "1                                     NONE   \n",
       "2  Environmentally Critical Area Exemption   \n",
       "3                      Addition/Alteration   \n",
       "4                      Addition/Alteration   \n",
       "\n",
       "                                         Description  HousingUnits  \\\n",
       "0  Phase II of III for construction of a mixed us...           NaN   \n",
       "1  Re-Roof Apartment Building  for Mono Rooftop S...           NaN   \n",
       "2  Exception/Exemption Request for: CLOSED AS INC...           NaN   \n",
       "3  Construct alterations for accessible ramp at e...           NaN   \n",
       "4  Alterations to existing retail space (Suite A)...           NaN   \n",
       "\n",
       "   HousingUnitsRemoved  HousingUnitsAdded  EstProjectCost  \\\n",
       "0                  0.0                0.0       7700000.0   \n",
       "1                  NaN                NaN             NaN   \n",
       "2                  NaN                NaN             NaN   \n",
       "3                  0.0                0.0        175000.0   \n",
       "4                  0.0                0.0        211118.0   \n",
       "\n",
       "                         ...                                 StatusCurrent  \\\n",
       "0                        ...                                     Completed   \n",
       "1                        ...                                        Issued   \n",
       "2                        ...                                     Completed   \n",
       "3                        ...                          Corrections Required   \n",
       "4                        ...                                     Completed   \n",
       "\n",
       "         OriginalAddress1 OriginalCity OriginalState OriginalZip  \\\n",
       "0           809 OLIVE WAY      SEATTLE            WA     98101.0   \n",
       "1        201 W OLYMPIC PL      SEATTLE            WA     98119.0   \n",
       "2        6504 24TH AVE SW      SEATTLE            WA     98106.0   \n",
       "3         2401 UTAH AVE S      SEATTLE            WA     98134.0   \n",
       "4  5240 UNIVERSITY WAY NE      SEATTLE            WA     98105.0   \n",
       "\n",
       "    ContractorCompanyName                                               Link  \\\n",
       "0  WASHINGTON HANOVER,LLC  https://cosaccela.seattle.gov/portal/customize...   \n",
       "1                     NaN  https://cosaccela.seattle.gov/portal/customize...   \n",
       "2                     NaN  https://cosaccela.seattle.gov/portal/customize...   \n",
       "3                     NaN  https://cosaccela.seattle.gov/portal/customize...   \n",
       "4                     NaN  https://cosaccela.seattle.gov/portal/customize...   \n",
       "\n",
       "    Latitude   Longitude                                         Location_1  \n",
       "0  47.613975 -122.333528  809 OLIVE WAY\\nSEATTLE, WA 98101\\n(47.61397452...  \n",
       "1  47.626438 -122.359578  201 W OLYMPIC PL\\nSEATTLE, WA 98119\\n(47.62643...  \n",
       "2  47.544636 -122.364054  6504 24TH AVE SW\\nSEATTLE, WA 98106\\n(47.54463...  \n",
       "3  47.581818 -122.335358  2401 UTAH AVE S\\nSEATTLE, WA 98134\\n(47.581818...  \n",
       "4  47.667616 -122.312733  5240 UNIVERSITY WAY NE\\nSEATTLE, WA 98105\\n(47...  \n",
       "\n",
       "[5 rows x 24 columns]"
      ]
     },
     "execution_count": 7,
     "metadata": {},
     "output_type": "execute_result"
    }
   ],
   "source": [
    "permits.head()"
   ]
  },
  {
   "cell_type": "markdown",
   "metadata": {},
   "source": [
    "We can see that the dataset different kinds of permits - check column \"PermitTypeDec\" above. It has values \"New\" as well as \"Addition/Alteration\". \n",
    "  \n",
    "Let us visualize the type of permits in more detail."
   ]
  },
  {
   "cell_type": "code",
   "execution_count": 8,
   "metadata": {},
   "outputs": [
    {
     "data": {
      "image/png": "[encoded data removed]",
      "text/plain": [
       "<Figure size 1080x432 with 1 Axes>"
      ]
     },
     "metadata": {},
     "output_type": "display_data"
    }
   ],
   "source": [
    "# Plot a barplot for the PermitTypeDesc column\n",
    "plt.figure(figsize=(15,6))\n",
    "sns.countplot(y=permits.PermitTypeDesc, color='orange')\n",
    "plt.title(\"Permit Type Desc\", fontsize=20)\n",
    "plt.show()"
   ]
  },
  {
   "cell_type": "markdown",
   "metadata": {},
   "source": [
    "We can see from above plot that majority of the permits are of type \"Addition/Alteration\". Let us look at what kind of changes are included in this Permit Type."
   ]
  },
  {
   "cell_type": "code",
   "execution_count": 9,
   "metadata": {},
   "outputs": [],
   "source": [
    "# Expand the max column width to view full description.\n",
    "pd.options.display.max_colwidth = 100"
   ]
  },
  {
   "cell_type": "code",
   "execution_count": 10,
   "metadata": {},
   "outputs": [
    {
     "data": {
      "text/plain": [
       "3        Construct alterations for accessible ramp at existing south commercial building entry, per plan.\n",
       "4       Alterations to existing retail space (Suite A) to change use to restaurant and occupy, per plans.\n",
       "6                 interior alterations to exisiting basement per plan subject to field inspection (STFI).\n",
       "7             REPLACE EXISTG ROCKERY WITH NEW SEG BLOCK RETAING WALL AT SINGLE FAMILY DWELLING, PER PLANS\n",
       "9                           Construct new dormer addition to existing single fmaily residence, per (STFI)\n",
       "10                                          Interior Tenant Improvement for a Jewelry Showroom and Office\n",
       "11    Construct addition to and interior alterations to existing single-family dwelling per plot plan ...\n",
       "12    Closed as Incomplete - Expired Permit    Non-structural interior alterations and storefront revi...\n",
       "13                        Construct tenant improvement for Sky view observation café renovation, per plan\n",
       "14                                        Voluntary seismic retrofit on single family residence, per plan\n",
       "Name: Description, dtype: object"
      ]
     },
     "execution_count": 10,
     "metadata": {},
     "output_type": "execute_result"
    }
   ],
   "source": [
    "permits[permits[\"PermitTypeDesc\"] == 'Addition/Alteration']['Description'][0:10]"
   ]
  },
  {
   "cell_type": "markdown",
   "metadata": {},
   "source": [
    "As seen above, Addition/Alteration Permits mostly include alterations to interiors or minor structural extensions. These do not really represent growth. Also, none of the other Permit Types except \"New\" are relevant to our research questions. "
   ]
  },
  {
   "cell_type": "markdown",
   "metadata": {},
   "source": [
    "The below are the numerical counts of each of the Permit Types. "
   ]
  },
  {
   "cell_type": "code",
   "execution_count": 11,
   "metadata": {},
   "outputs": [
    {
     "data": {
      "text/plain": [
       "Addition/Alteration                        71130\n",
       "New                                        19168\n",
       "Environmentally Critical Area Exemption     9175\n",
       "Demolition                                  5661\n",
       "Tenant Improvment                           3419\n",
       "Shoreline Exemption                         3110\n",
       "Curb Cut                                     698\n",
       "Temporary                                    568\n",
       "Street Improvement Exception                 396\n",
       "NONE                                         388\n",
       "Tenant Improvement Pre-Approval              249\n",
       "Deconstruction                                24\n",
       "Relocation                                    19\n",
       "Change of Use Only - No Construction          17\n",
       "Name: PermitTypeDesc, dtype: int64"
      ]
     },
     "execution_count": 11,
     "metadata": {},
     "output_type": "execute_result"
    }
   ],
   "source": [
    "permits.PermitTypeDesc.value_counts()"
   ]
  },
  {
   "cell_type": "markdown",
   "metadata": {},
   "source": [
    "We need to filter the dataset on \"New\" permits and perform further analysis on this smaller subset of 19168 rows."
   ]
  },
  {
   "cell_type": "code",
   "execution_count": 12,
   "metadata": {},
   "outputs": [],
   "source": [
    "new_permits = permits[permits.PermitTypeDesc == 'New']"
   ]
  },
  {
   "cell_type": "code",
   "execution_count": 13,
   "metadata": {},
   "outputs": [],
   "source": [
    "# Save this intermediate file for reproducibility\n",
    "new_permits.to_csv(\"data/New_Permits.csv\", index=False)"
   ]
  },
  {
   "cell_type": "markdown",
   "metadata": {},
   "source": [
    "If you are reproducing the analysis from this point, uncomment the below and execute to load the intermediate file."
   ]
  },
  {
   "cell_type": "code",
   "execution_count": 14,
   "metadata": {},
   "outputs": [],
   "source": [
    "#new_permits = pd.read_csv(\"data/New_Permits.csv\")\n",
    "#print(\"New Permits Shape:\", new_permits.shape)"
   ]
  },
  {
   "cell_type": "markdown",
   "metadata": {},
   "source": [
    "### Data Cleaning"
   ]
  },
  {
   "cell_type": "markdown",
   "metadata": {},
   "source": [
    "#### Handle Missing Values"
   ]
  },
  {
   "cell_type": "markdown",
   "metadata": {},
   "source": [
    "We need to check for missing values in the other columns. This will help us decide which columns can be used for analysis and which need to be dropped."
   ]
  },
  {
   "cell_type": "code",
   "execution_count": 15,
   "metadata": {},
   "outputs": [
    {
     "data": {
      "image/png": "[encoded data removed]",
      "text/plain": [
       "<Figure size 864x576 with 1 Axes>"
      ]
     },
     "metadata": {},
     "output_type": "display_data"
    }
   ],
   "source": [
    "# Calculate the proportion of missing values in each column\n",
    "missing_prop = pd.DataFrame(new_permits.isnull().mean()).reset_index()\n",
    "missing_prop.columns = ['column','missing_prop']\n",
    "\n",
    "# Plot the proportion of missing values in descending order\n",
    "plt.figure(figsize=(12,8))\n",
    "sns.barplot(x='missing_prop', y='column', data=missing_prop.sort_values(by='missing_prop',ascending=False))\n",
    "plt.show()"
   ]
  },
  {
   "cell_type": "markdown",
   "metadata": {},
   "source": [
    "For our research question, we need a date for the permit. We have four dates in this dataset - AppliedDate, IssuedDate, ExpiresDate and CompletedDate. CompletedDate sounds like a relevant column but it has almost 50% missing values.The column \"StatusCurrent\" has zero missing values.  \n",
    "Let us check the status of columns with missing CompletedDate."
   ]
  },
  {
   "cell_type": "code",
   "execution_count": 16,
   "metadata": {},
   "outputs": [
    {
     "data": {
      "text/plain": [
       "Issued                       1815\n",
       "Closed                       1516\n",
       "Completed                    1260\n",
       "Canceled                      900\n",
       "Expired                       759\n",
       "Corrections Required          574\n",
       "Additional Info Requested     535\n",
       "Reviews In Process            421\n",
       "Reviews Completed             232\n",
       "Application Completed          68\n",
       "Scheduled                      49\n",
       "Withdrawn                      40\n",
       "Ready for Issuance             33\n",
       "Ready for Intake               23\n",
       "Initiated                      15\n",
       "Corrections Submitted          15\n",
       "Scheduled and Submitted        10\n",
       "Inspections Completed          10\n",
       "Approved to Occupy              7\n",
       "Reviews in Process              4\n",
       "Name: StatusCurrent, dtype: int64"
      ]
     },
     "execution_count": 16,
     "metadata": {},
     "output_type": "execute_result"
    }
   ],
   "source": [
    "new_permits[new_permits['CompletedDate'].isnull()]['StatusCurrent'].value_counts()"
   ]
  },
  {
   "cell_type": "markdown",
   "metadata": {},
   "source": [
    "As seen above, there are permits with 'Completed', 'Issued' or 'Closed' Status which do not have a CompletedDate. Thus we cannot rely on the CompletedDate column.  \n",
    "  \n",
    "Applied Date seems to have the least number of missing values."
   ]
  },
  {
   "cell_type": "code",
   "execution_count": 17,
   "metadata": {},
   "outputs": [
    {
     "data": {
      "text/html": [
       "<div>\n",
       "<style scoped>\n",
       "    .dataframe tbody tr th:only-of-type {\n",
       "        vertical-align: middle;\n",
       "    }\n",
       "\n",
       "    .dataframe tbody tr th {\n",
       "        vertical-align: top;\n",
       "    }\n",
       "\n",
       "    .dataframe thead th {\n",
       "        text-align: right;\n",
       "    }\n",
       "</style>\n",
       "<table border=\"1\" class=\"dataframe\">\n",
       "  <thead>\n",
       "    <tr style=\"text-align: right;\">\n",
       "      <th></th>\n",
       "      <th>column</th>\n",
       "      <th>missing_prop</th>\n",
       "    </tr>\n",
       "  </thead>\n",
       "  <tbody>\n",
       "    <tr>\n",
       "      <th>10</th>\n",
       "      <td>AppliedDate</td>\n",
       "      <td>0.117279</td>\n",
       "    </tr>\n",
       "  </tbody>\n",
       "</table>\n",
       "</div>"
      ],
      "text/plain": [
       "         column  missing_prop\n",
       "10  AppliedDate      0.117279"
      ]
     },
     "execution_count": 17,
     "metadata": {},
     "output_type": "execute_result"
    }
   ],
   "source": [
    "missing_prop[missing_prop.column == 'AppliedDate']"
   ]
  },
  {
   "cell_type": "markdown",
   "metadata": {},
   "source": [
    "11.72% of the applied dates are missing. Let us exclude these columns from analysis to keep things simple. \n",
    "  \n",
    "Missing data can be noted as a limitation of this approach."
   ]
  },
  {
   "cell_type": "code",
   "execution_count": 20,
   "metadata": {},
   "outputs": [
    {
     "name": "stdout",
     "output_type": "stream",
     "text": [
      "Permits Shape Before: (119760, 24)\n",
      "Permits Shape After: (16920, 24)\n"
     ]
    }
   ],
   "source": [
    "# Check the number of records\n",
    "print(\"Permits Shape Before:\", permits.shape)\n",
    "\n",
    "new_permits.drop(new_permits[new_permits.AppliedDate.isnull()].index, inplace=True)\n",
    "\n",
    "# Check the number of records\n",
    "print(\"Permits Shape After:\", new_permits.shape)"
   ]
  },
  {
   "cell_type": "markdown",
   "metadata": {},
   "source": [
    "#### Feature Creation"
   ]
  },
  {
   "cell_type": "markdown",
   "metadata": {},
   "source": [
    "Let us extract year from AppliedDate. It is important to remember that we will be analyzing the data using the year in which permit was applied. It should not be interpreted as the year in which permit or actual construction project was completed."
   ]
  },
  {
   "cell_type": "code",
   "execution_count": 21,
   "metadata": {},
   "outputs": [],
   "source": [
    "# Extract Year from AppliedDate\n",
    "new_permits['YearApplied'] = new_permits.AppliedDate.apply(lambda x: x[:4] if isinstance(x, str) else None)"
   ]
  },
  {
   "cell_type": "markdown",
   "metadata": {},
   "source": [
    "#### Filter Incomplete or Expired Permits"
   ]
  },
  {
   "cell_type": "markdown",
   "metadata": {},
   "source": [
    "Are all these permits issued or completed? To check this, let's look at the distribution of the new permits by current status."
   ]
  },
  {
   "cell_type": "code",
   "execution_count": 22,
   "metadata": {
    "scrolled": true
   },
   "outputs": [
    {
     "data": {
      "text/plain": [
       "Completed                    11952\n",
       "Issued                        1814\n",
       "Expired                        880\n",
       "Canceled                       832\n",
       "Corrections Required           573\n",
       "Reviews In Process             421\n",
       "Reviews Completed              232\n",
       "Application Completed           68\n",
       "Inspections Completed           52\n",
       "Ready for Issuance              33\n",
       "Approved to Occupy              24\n",
       "Withdrawn                       19\n",
       "Corrections Submitted           15\n",
       "Reviews in Process               4\n",
       "Additional Info Requested        1\n",
       "Name: StatusCurrent, dtype: int64"
      ]
     },
     "execution_count": 22,
     "metadata": {},
     "output_type": "execute_result"
    }
   ],
   "source": [
    "new_permits.StatusCurrent.value_counts()"
   ]
  },
  {
   "cell_type": "markdown",
   "metadata": {},
   "source": [
    "We can use the AppliedDate column to check the validity of these values of status. First lets convert the AppliedDate to a datetime for correct comparison."
   ]
  },
  {
   "cell_type": "code",
   "execution_count": 23,
   "metadata": {},
   "outputs": [],
   "source": [
    "new_permits[\"AppliedDateDT\"] = new_permits['AppliedDate'].apply(lambda x: datetime.strptime(str(x), '%Y-%m-%d') if x is not np.nan else None)"
   ]
  },
  {
   "cell_type": "code",
   "execution_count": 24,
   "metadata": {},
   "outputs": [
    {
     "data": {
      "text/html": [
       "<div>\n",
       "<style scoped>\n",
       "    .dataframe tbody tr th:only-of-type {\n",
       "        vertical-align: middle;\n",
       "    }\n",
       "\n",
       "    .dataframe tbody tr th {\n",
       "        vertical-align: top;\n",
       "    }\n",
       "\n",
       "    .dataframe thead tr th {\n",
       "        text-align: left;\n",
       "    }\n",
       "\n",
       "    .dataframe thead tr:last-of-type th {\n",
       "        text-align: right;\n",
       "    }\n",
       "</style>\n",
       "<table border=\"1\" class=\"dataframe\">\n",
       "  <thead>\n",
       "    <tr>\n",
       "      <th></th>\n",
       "      <th colspan=\"3\" halign=\"left\">AppliedDateDT</th>\n",
       "    </tr>\n",
       "    <tr>\n",
       "      <th></th>\n",
       "      <th>min</th>\n",
       "      <th>max</th>\n",
       "      <th>count</th>\n",
       "    </tr>\n",
       "    <tr>\n",
       "      <th>StatusCurrent</th>\n",
       "      <th></th>\n",
       "      <th></th>\n",
       "      <th></th>\n",
       "    </tr>\n",
       "  </thead>\n",
       "  <tbody>\n",
       "    <tr>\n",
       "      <th>Additional Info Requested</th>\n",
       "      <td>2018-09-18</td>\n",
       "      <td>2018-09-18</td>\n",
       "      <td>1</td>\n",
       "    </tr>\n",
       "    <tr>\n",
       "      <th>Application Completed</th>\n",
       "      <td>2004-01-21</td>\n",
       "      <td>2018-11-16</td>\n",
       "      <td>68</td>\n",
       "    </tr>\n",
       "    <tr>\n",
       "      <th>Approved to Occupy</th>\n",
       "      <td>2006-09-24</td>\n",
       "      <td>2016-09-30</td>\n",
       "      <td>24</td>\n",
       "    </tr>\n",
       "    <tr>\n",
       "      <th>Canceled</th>\n",
       "      <td>2000-10-17</td>\n",
       "      <td>2018-01-11</td>\n",
       "      <td>832</td>\n",
       "    </tr>\n",
       "    <tr>\n",
       "      <th>Completed</th>\n",
       "      <td>1992-06-09</td>\n",
       "      <td>2018-08-24</td>\n",
       "      <td>11952</td>\n",
       "    </tr>\n",
       "    <tr>\n",
       "      <th>Corrections Required</th>\n",
       "      <td>2009-03-18</td>\n",
       "      <td>2018-10-08</td>\n",
       "      <td>573</td>\n",
       "    </tr>\n",
       "    <tr>\n",
       "      <th>Corrections Submitted</th>\n",
       "      <td>2016-12-23</td>\n",
       "      <td>2018-08-30</td>\n",
       "      <td>15</td>\n",
       "    </tr>\n",
       "    <tr>\n",
       "      <th>Expired</th>\n",
       "      <td>1989-02-27</td>\n",
       "      <td>2017-05-12</td>\n",
       "      <td>880</td>\n",
       "    </tr>\n",
       "    <tr>\n",
       "      <th>Inspections Completed</th>\n",
       "      <td>2006-08-14</td>\n",
       "      <td>2018-07-30</td>\n",
       "      <td>52</td>\n",
       "    </tr>\n",
       "    <tr>\n",
       "      <th>Issued</th>\n",
       "      <td>1989-07-26</td>\n",
       "      <td>2018-10-26</td>\n",
       "      <td>1814</td>\n",
       "    </tr>\n",
       "    <tr>\n",
       "      <th>Ready for Issuance</th>\n",
       "      <td>2007-03-23</td>\n",
       "      <td>2018-09-05</td>\n",
       "      <td>33</td>\n",
       "    </tr>\n",
       "    <tr>\n",
       "      <th>Reviews Completed</th>\n",
       "      <td>2014-10-29</td>\n",
       "      <td>2018-10-15</td>\n",
       "      <td>232</td>\n",
       "    </tr>\n",
       "    <tr>\n",
       "      <th>Reviews In Process</th>\n",
       "      <td>2005-07-14</td>\n",
       "      <td>2018-11-16</td>\n",
       "      <td>421</td>\n",
       "    </tr>\n",
       "    <tr>\n",
       "      <th>Reviews in Process</th>\n",
       "      <td>2016-07-20</td>\n",
       "      <td>2018-10-10</td>\n",
       "      <td>4</td>\n",
       "    </tr>\n",
       "    <tr>\n",
       "      <th>Withdrawn</th>\n",
       "      <td>2005-09-21</td>\n",
       "      <td>2018-09-13</td>\n",
       "      <td>19</td>\n",
       "    </tr>\n",
       "  </tbody>\n",
       "</table>\n",
       "</div>"
      ],
      "text/plain": [
       "                          AppliedDateDT                  \n",
       "                                    min        max  count\n",
       "StatusCurrent                                            \n",
       "Additional Info Requested    2018-09-18 2018-09-18      1\n",
       "Application Completed        2004-01-21 2018-11-16     68\n",
       "Approved to Occupy           2006-09-24 2016-09-30     24\n",
       "Canceled                     2000-10-17 2018-01-11    832\n",
       "Completed                    1992-06-09 2018-08-24  11952\n",
       "Corrections Required         2009-03-18 2018-10-08    573\n",
       "Corrections Submitted        2016-12-23 2018-08-30     15\n",
       "Expired                      1989-02-27 2017-05-12    880\n",
       "Inspections Completed        2006-08-14 2018-07-30     52\n",
       "Issued                       1989-07-26 2018-10-26   1814\n",
       "Ready for Issuance           2007-03-23 2018-09-05     33\n",
       "Reviews Completed            2014-10-29 2018-10-15    232\n",
       "Reviews In Process           2005-07-14 2018-11-16    421\n",
       "Reviews in Process           2016-07-20 2018-10-10      4\n",
       "Withdrawn                    2005-09-21 2018-09-13     19"
      ]
     },
     "execution_count": 24,
     "metadata": {},
     "output_type": "execute_result"
    }
   ],
   "source": [
    "new_permits[['StatusCurrent','AppliedDateDT']].groupby('StatusCurrent').agg(['min','max','count'])"
   ]
  },
  {
   "cell_type": "markdown",
   "metadata": {},
   "source": [
    "The dataset did not include defintions for each of these status types. Looking at the status values, it is difficult to deduce the order and reliability of the different status values. For purposes of this analysis, I will make a best guess at what the status means based on the wording. My aim is to remove rows with permits which were not issued. All other permits will be considered completed or in progress.\n",
    "\n",
    "Some of these intermediate stages like 'Ready for Issuance' or 'Approved to Occupy' might be intermediate stages or final stages in the process. For simplicity sake, we will assume these are all final stages where the permit was issued since there are older dates which have this status.\n",
    "\n",
    "We can exclude the permits with values - 'Canceled','Expired' and 'Withdrawn' as these indicate that the permit was not used."
   ]
  },
  {
   "cell_type": "code",
   "execution_count": 25,
   "metadata": {},
   "outputs": [
    {
     "name": "stdout",
     "output_type": "stream",
     "text": [
      "Permits Shape: (15189, 26)\n"
     ]
    }
   ],
   "source": [
    "# Remove incomplete permits\n",
    "new_permits = new_permits[~new_permits.StatusCurrent.isin(['Canceled','Expired','Withdrawn'])]\n",
    "\n",
    "# Check the number of records\n",
    "print(\"Permits Shape:\", new_permits.shape)"
   ]
  },
  {
   "cell_type": "markdown",
   "metadata": {},
   "source": [
    "Let us look at the description of Permits again to eyeball any unusual cases."
   ]
  },
  {
   "cell_type": "code",
   "execution_count": 26,
   "metadata": {},
   "outputs": [
    {
     "data": {
      "text/html": [
       "<div>\n",
       "<style scoped>\n",
       "    .dataframe tbody tr th:only-of-type {\n",
       "        vertical-align: middle;\n",
       "    }\n",
       "\n",
       "    .dataframe tbody tr th {\n",
       "        vertical-align: top;\n",
       "    }\n",
       "\n",
       "    .dataframe thead th {\n",
       "        text-align: right;\n",
       "    }\n",
       "</style>\n",
       "<table border=\"1\" class=\"dataframe\">\n",
       "  <thead>\n",
       "    <tr style=\"text-align: right;\">\n",
       "      <th></th>\n",
       "      <th>StatusCurrent</th>\n",
       "      <th>Description</th>\n",
       "    </tr>\n",
       "  </thead>\n",
       "  <tbody>\n",
       "    <tr>\n",
       "      <th>0</th>\n",
       "      <td>Completed</td>\n",
       "      <td>Phase II of III for construction of a mixed use high-rise bldg with basmt parking, foundation &amp; ...</td>\n",
       "    </tr>\n",
       "    <tr>\n",
       "      <th>42</th>\n",
       "      <td>Issued</td>\n",
       "      <td>Establish use and construct single family dwelling per plan.</td>\n",
       "    </tr>\n",
       "    <tr>\n",
       "      <th>57</th>\n",
       "      <td>Issued</td>\n",
       "      <td>Establish use as and construct a single-family residence, per plans.</td>\n",
       "    </tr>\n",
       "    <tr>\n",
       "      <th>82</th>\n",
       "      <td>Completed</td>\n",
       "      <td>Closed as Incomplete - Expired Permit    Construct carriage house (1-unit w/attached 3 car garag...</td>\n",
       "    </tr>\n",
       "    <tr>\n",
       "      <th>99</th>\n",
       "      <td>Completed</td>\n",
       "      <td>Eight live-work units totaling 11,291 sq.ft. with surface parking for eight vehicles.  Two, 2-un...</td>\n",
       "    </tr>\n",
       "    <tr>\n",
       "      <th>106</th>\n",
       "      <td>Completed</td>\n",
       "      <td>Closed as Incomplete - Expired Permit    CONSTRUCT ATTACHED GARAGE AND ACCESSORY DWELLING UNIT T...</td>\n",
       "    </tr>\n",
       "    <tr>\n",
       "      <th>112</th>\n",
       "      <td>Completed</td>\n",
       "      <td>Establish use as and construct new SFR with attached garage, per plan.</td>\n",
       "    </tr>\n",
       "    <tr>\n",
       "      <th>130</th>\n",
       "      <td>Issued</td>\n",
       "      <td>Establish use as and construct new single family residence, per plan.</td>\n",
       "    </tr>\n",
       "    <tr>\n",
       "      <th>135</th>\n",
       "      <td>Issued</td>\n",
       "      <td>Construct new West duplex Unit B, per plan. (Establish use as townhouse and construct 2 new dupl...</td>\n",
       "    </tr>\n",
       "    <tr>\n",
       "      <th>158</th>\n",
       "      <td>Reviews Completed</td>\n",
       "      <td>Construct new West multifamily building, occupy per plan (Establish use as apartment and constru...</td>\n",
       "    </tr>\n",
       "  </tbody>\n",
       "</table>\n",
       "</div>"
      ],
      "text/plain": [
       "         StatusCurrent  \\\n",
       "0            Completed   \n",
       "42              Issued   \n",
       "57              Issued   \n",
       "82           Completed   \n",
       "99           Completed   \n",
       "106          Completed   \n",
       "112          Completed   \n",
       "130             Issued   \n",
       "135             Issued   \n",
       "158  Reviews Completed   \n",
       "\n",
       "                                                                                             Description  \n",
       "0    Phase II of III for construction of a mixed use high-rise bldg with basmt parking, foundation & ...  \n",
       "42                                          Establish use and construct single family dwelling per plan.  \n",
       "57                                  Establish use as and construct a single-family residence, per plans.  \n",
       "82   Closed as Incomplete - Expired Permit    Construct carriage house (1-unit w/attached 3 car garag...  \n",
       "99   Eight live-work units totaling 11,291 sq.ft. with surface parking for eight vehicles.  Two, 2-un...  \n",
       "106  Closed as Incomplete - Expired Permit    CONSTRUCT ATTACHED GARAGE AND ACCESSORY DWELLING UNIT T...  \n",
       "112                               Establish use as and construct new SFR with attached garage, per plan.  \n",
       "130                                Establish use as and construct new single family residence, per plan.  \n",
       "135  Construct new West duplex Unit B, per plan. (Establish use as townhouse and construct 2 new dupl...  \n",
       "158  Construct new West multifamily building, occupy per plan (Establish use as apartment and constru...  "
      ]
     },
     "execution_count": 26,
     "metadata": {},
     "output_type": "execute_result"
    }
   ],
   "source": [
    "new_permits[['StatusCurrent','Description']][0:10]"
   ]
  },
  {
   "cell_type": "markdown",
   "metadata": {},
   "source": [
    "Notice that row with index 82. It has a Completed Status but the description says that it is closed as incomplete.  Lets check if we have more of these rows."
   ]
  },
  {
   "cell_type": "code",
   "execution_count": 27,
   "metadata": {},
   "outputs": [
    {
     "data": {
      "text/plain": [
       "82      Closed as Incomplete - Expired Permit    Construct carriage house (1-unit w/attached 3 car garag...\n",
       "106     Closed as Incomplete - Expired Permit    CONSTRUCT ATTACHED GARAGE AND ACCESSORY DWELLING UNIT T...\n",
       "678     CLOSED AS INCOMPLETE - EXPIRED PERMIT. Demolish existing single family residence and establish u...\n",
       "1312    Closed as Incomplete - Expired Permit    Establish use for single family residence, construct ne...\n",
       "1627    CLOSED AS INCOMPLETE - EXPIRED PERMIT. Establish use as one single family residence - construct ...\n",
       "1717    CLOSED AS INCOMPLETE - EXPIRED PERMIT. construct 2nd story addition to existing single family re...\n",
       "1885    Closed as Incomplete - Expired Permit    Establish use as single family residence and construct ...\n",
       "2023    CLOSED AS INCOMPLETE - EXPIRED PERMIT. Establish use as and construct new single family residenc...\n",
       "2037    CLOSED AS INCOMPLETE - EXPIRED PERMIT. Establish use as and construct NE single family residence...\n",
       "2210    CLOSED AS INCOMPLETE - EXPIRED PERMIT. Construct Southwest single family residence. (Establish u...\n",
       "Name: Description, dtype: object"
      ]
     },
     "execution_count": 27,
     "metadata": {},
     "output_type": "execute_result"
    }
   ],
   "source": [
    "new_permits[new_permits['Description'].str.contains('Closed as Incomplete - Expired Permit', flags=re.IGNORECASE, na=False, regex=True)]['Description'][0:10]"
   ]
  },
  {
   "cell_type": "markdown",
   "metadata": {},
   "source": [
    "It would be reasonable to exclude these permits from the analysis."
   ]
  },
  {
   "cell_type": "code",
   "execution_count": 28,
   "metadata": {},
   "outputs": [
    {
     "name": "stdout",
     "output_type": "stream",
     "text": [
      "Permits Shape: (14046, 26)\n"
     ]
    }
   ],
   "source": [
    "# Drop the Permits which were closed as mentioned in the Desscription\n",
    "new_permits.drop(new_permits[new_permits['Description'].str.contains('closed as incomplete', flags=re.IGNORECASE, na=False, regex=True)].index, inplace=True)\n",
    "\n",
    "# Check the number of records\n",
    "print(\"Permits Shape:\", new_permits.shape)"
   ]
  },
  {
   "cell_type": "code",
   "execution_count": 29,
   "metadata": {},
   "outputs": [],
   "source": [
    "# Save this intermediate file for reproducibility\n",
    "new_permits.to_csv(\"data/New_Permits_Cleaned.csv\", index=False)"
   ]
  },
  {
   "cell_type": "markdown",
   "metadata": {},
   "source": [
    "If you are reproducing the analysis from this point, uncomment the below to load the intermediate file."
   ]
  },
  {
   "cell_type": "code",
   "execution_count": 30,
   "metadata": {},
   "outputs": [],
   "source": [
    "#new_permits = pd.read_csv(\"data/New_Permits_Cleaned.csv\")\n",
    "#print(\"New Permits Shape:\", new_permits.shape)"
   ]
  },
  {
   "cell_type": "markdown",
   "metadata": {},
   "source": [
    "### Yearly Trends in New Permits "
   ]
  },
  {
   "cell_type": "markdown",
   "metadata": {},
   "source": [
    "Let us check the distribution of new permits by Applied Year,"
   ]
  },
  {
   "cell_type": "code",
   "execution_count": 31,
   "metadata": {
    "scrolled": false
   },
   "outputs": [
    {
     "data": {
      "image/png": "[encoded data removed]",
      "text/plain": [
       "<Figure size 1080x360 with 1 Axes>"
      ]
     },
     "metadata": {},
     "output_type": "display_data"
    }
   ],
   "source": [
    "plt.figure(figsize=(15,5))\n",
    "sns.countplot(new_permits['YearApplied'])\n",
    "plt.title('Distribution of New Permits by Applied Year', fontsize=20)\n",
    "plt.show()"
   ]
  },
  {
   "cell_type": "markdown",
   "metadata": {},
   "source": [
    "We can see there is an interesting trend in the distribution of new permits. There was a peak in 2006 followed by a dip in 2009. There is again an increasing trend in recent years. Note that the dataset has incomplete data for 2018 and hence we see a dip in 2018. We will have to limit our analysis till 2017."
   ]
  },
  {
   "cell_type": "markdown",
   "metadata": {},
   "source": [
    "Let us store the counts and create a lineplot to visualize the trends in different Permit classes from last two decades."
   ]
  },
  {
   "cell_type": "code",
   "execution_count": 32,
   "metadata": {
    "scrolled": true
   },
   "outputs": [
    {
     "data": {
      "image/png": "[encoded data removed]",
      "text/plain": [
       "<Figure size 864x360 with 1 Axes>"
      ]
     },
     "metadata": {},
     "output_type": "display_data"
    }
   ],
   "source": [
    "new_permits_by_class = new_permits[['YearApplied','PermitClass','PermitNum']].groupby(['YearApplied','PermitClass'], as_index=False).count()\n",
    "new_permits_by_class= new_permits_by_class[new_permits_by_class['YearApplied'].isin([str(y) for y in range(2001,2018)])]\n",
    "\n",
    "plt.figure(figsize=(12,5))\n",
    "sns.lineplot(x='YearApplied', y='PermitNum', data=new_permits_by_class, hue='PermitClass', )\n",
    "plt.xlabel('Year - Permit Applied', fontsize=13)\n",
    "plt.ylabel('Count of Permits', fontsize=13)\n",
    "plt.title('New Building Permits by Permit Class', fontsize=18)\n",
    "plt.show()"
   ]
  },
  {
   "cell_type": "markdown",
   "metadata": {},
   "source": [
    "#### Findings"
   ]
  },
  {
   "cell_type": "markdown",
   "metadata": {},
   "source": [
    "We can see the distribution of permits by class in the above lineplots and also the yearly trends for each class. The number of permits for each class are as expected. Number of single family/duplex home permits will be greater than the number of Multifamily apartment buildings.\n",
    "  \n",
    "The trends show a clear sharp peak in the year 2006 which can be exlained by the huge housing bubble during that time which later burst in 2008 leading to recession. The sharp dip during 2009 corresponds to the recession period. Notice that there are huge dips in the residential types as compared to the non-residential types. \n",
    "  \n",
    "We can see that the number of new permits has been steadily increasing since 2009. Between 2013 and 2016, we can see that the permits for single family homes dipped slightly in 2016 only to rise sharply in 2017. On the other hand, it is interesting to note that the Multifamily permits have risen geadually till 2016 and sharply in 2017. "
   ]
  },
  {
   "cell_type": "markdown",
   "metadata": {},
   "source": [
    "### Fastest Growing Neighborhoods"
   ]
  },
  {
   "cell_type": "markdown",
   "metadata": {},
   "source": [
    " #### Get the neighborhood names from the geographical coordinates"
   ]
  },
  {
   "cell_type": "markdown",
   "metadata": {},
   "source": [
    "Lets look at the geometry column to understand how it works."
   ]
  },
  {
   "cell_type": "code",
   "execution_count": 33,
   "metadata": {
    "scrolled": true
   },
   "outputs": [
    {
     "data": {
      "image/svg+xml": [
       "<svg xmlns=\"http://www.w3.org/2000/svg\" xmlns:xlink=\"http://www.w3.org/1999/xlink\" width=\"100.0\" height=\"100.0\" viewBox=\"-122.27513082562999 47.695182169867884 0.001196175485773665 0.00042650878148009497\" preserveAspectRatio=\"xMinYMin meet\"><g transform=\"matrix(1,0,0,-1,0,95.39079084851724)\"><path fill-rule=\"evenodd\" fill=\"#66cc99\" stroke=\"#555555\" stroke-width=\"2.39235097154733e-05\" opacity=\"0.6\" d=\"M -122.27397895293998,47.695226472663656 L -122.27409168130465,47.6952639921772 L -122.27416596165186,47.69530636757674 L -122.27422133445985,47.69532597510108 L -122.27428547630623,47.69533227627196 L -122.27435972282612,47.69533682149507 L -122.27452057906403,47.69535235337489 L -122.27462761674825,47.695367708543564 L -122.27476154688902,47.69540084625938 L -122.27486479955861,47.69542614611331 L -122.27494982717457,47.69545330420073 L -122.27504271399823,47.69550752552892 L -122.27508652283421,47.69554947187938 L -122.27505647571276,47.69556437585359 L -122.27496776311975,47.695514214768735 L -122.27488321789812,47.695467856678164 L -122.27480765198857,47.69545236062945 L -122.274697499836,47.6954345597865 L -122.27462569008328,47.69540804826702 L -122.27451939278762,47.69538278704797 L -122.27441141568602,47.69537018544236 L -122.27434013838447,47.69536286057417 L -122.27427710171263,47.69535980177168 L -122.2742100290861,47.69535765067783 L -122.2741527404166,47.69534218004714 L -122.27407220246528,47.695293842824675 L -122.27397895293998,47.695226472663656 z\" /></g></svg>"
      ],
      "text/plain": [
       "<shapely.geometry.polygon.Polygon at 0x213e70e3390>"
      ]
     },
     "execution_count": 33,
     "metadata": {},
     "output_type": "execute_result"
    }
   ],
   "source": [
    "neighborhoods.geometry[0]"
   ]
  },
  {
   "cell_type": "markdown",
   "metadata": {},
   "source": [
    "Fiona is an excellent library to work with multi-layered GIS files like the neighborhoods shape file. We will use this library to join the Permits data with the Neighborhoods dataset.  \n",
    "  \n",
    "We will define a function to check whether the location point of the permit represented by the latitude and longitude columns lies within any of the region boundaries specified in the geometry column of the Neighborhoods dataset. The function wll return the index of the first matching region from the neighborhoods dataset.\n"
   ]
  },
  {
   "cell_type": "code",
   "execution_count": 34,
   "metadata": {},
   "outputs": [],
   "source": [
    "# Function to join the spatial points coordinates to the polygon neighborhood shapes in the shape file.\n",
    "def coord_to_neighborhood(long, lat, shape_file):\n",
    "    '''\n",
    "    Takes as input the latitude and longitude of a point, alongwith shape file.\n",
    "    Finds all the regions in the shape file such that the point lies within the boundaries of the region.\n",
    "    Returns the index of the first matching index.\n",
    "    '''\n",
    "    point_cord = Point(long, lat)   \n",
    "    with fiona.open(shape_file) as shp:\n",
    "        regions = [reg for reg in shp]\n",
    "    reg_idx = [ind for ind, reg in enumerate(regions)\n",
    "                if point_cord.within(shape(reg['geometry']))]\n",
    "    if not reg_idx:\n",
    "        return None\n",
    "    else:\n",
    "        # Take first matching region. There can be more than one if the point falls on a border.\n",
    "        return reg_idx[0]"
   ]
  },
  {
   "cell_type": "markdown",
   "metadata": {},
   "source": [
    "Call the function for all permits to get the index of the first matching neighborhood name."
   ]
  },
  {
   "cell_type": "code",
   "execution_count": 35,
   "metadata": {},
   "outputs": [],
   "source": [
    "# Get the list of indices from the neighboorhoods shape file that match the point cordinates (latitude, longitude) for all permits\n",
    "nbr_idx = [coord_to_neighborhood(new_permits['Longitude'].iloc[i], new_permits['Latitude'].iloc[i], neighborhoods_fn) for i in range(len(new_permits))]"
   ]
  },
  {
   "cell_type": "markdown",
   "metadata": {},
   "source": [
    "Create a new column to store the sub_region for each permit and populate it."
   ]
  },
  {
   "cell_type": "code",
   "execution_count": 36,
   "metadata": {},
   "outputs": [],
   "source": [
    "# Populate sub_region from the neighborhood file\n",
    "new_permits['sub_region'] = [neighborhoods.iloc[idx].loc['S_HOOD'] if idx else None for idx in nbr_idx]"
   ]
  },
  {
   "cell_type": "code",
   "execution_count": 37,
   "metadata": {},
   "outputs": [
    {
     "data": {
      "text/plain": [
       "0      Central Business District\n",
       "42                    Briarcliff\n",
       "57                 Rainier Beach\n",
       "99                    Green Lake\n",
       "112                  Mount Baker\n",
       "130                     Atlantic\n",
       "135                   Maple Leaf\n",
       "158                     Broadway\n",
       "182                   Maple Leaf\n",
       "214                      Ravenna\n",
       "Name: sub_region, dtype: object"
      ]
     },
     "execution_count": 37,
     "metadata": {},
     "output_type": "execute_result"
    }
   ],
   "source": [
    "# Check the populated column\n",
    "new_permits['sub_region'][0:10]"
   ]
  },
  {
   "cell_type": "code",
   "execution_count": 38,
   "metadata": {},
   "outputs": [
    {
     "data": {
      "text/plain": [
       "90"
      ]
     },
     "execution_count": 38,
     "metadata": {},
     "output_type": "execute_result"
    }
   ],
   "source": [
    "# Check the number of unique sub_regions in the data\n",
    "new_permits['sub_region'].nunique()"
   ]
  },
  {
   "cell_type": "markdown",
   "metadata": {},
   "source": [
    "Let us aggregate the number of new permits by sub_region. We will focus on data since 2011 as the recent trends are more relevant to our research question."
   ]
  },
  {
   "cell_type": "code",
   "execution_count": 39,
   "metadata": {},
   "outputs": [],
   "source": [
    "# Filter the data by recent years\n",
    "new_permits_recent = new_permits[new_permits['YearApplied'].isin([str(yr) for yr in range(2011,2018)])]\n",
    "\n",
    "# Aggregate the permits by sub_region\n",
    "new_permits_subregion = new_permits_recent[['sub_region','PermitNum']].groupby('sub_region', as_index=False).count()\n",
    "\n",
    "# Rename columns for better clarity\n",
    "new_permits_subregion.rename(columns={'PermitNum':'PermitsCount'}, inplace=True)\n",
    "\n",
    "# Sort the sub_regions by decreasing Permit counts\n",
    "new_permits_subregion.sort_values(by='PermitsCount', inplace=True, ascending=False)"
   ]
  },
  {
   "cell_type": "code",
   "execution_count": 51,
   "metadata": {},
   "outputs": [],
   "source": [
    "# Save this intermediate file for reproducibility\n",
    "new_permits_subregion.to_csv(\"data/New_Permits_SubRegions.csv\", index=False)"
   ]
  },
  {
   "cell_type": "markdown",
   "metadata": {},
   "source": [
    "If you are reproducing the analysis from this point, uncomment the below and execute to load the intermediate file."
   ]
  },
  {
   "cell_type": "code",
   "execution_count": 44,
   "metadata": {},
   "outputs": [],
   "source": [
    "#new_permits_subregion = pd.read_csv(\"data/New_Permits_SubRegions.csv\")\n",
    "#print(\"New Permits SubRegions Shape:\", new_permits_subregion.shape)"
   ]
  },
  {
   "cell_type": "markdown",
   "metadata": {},
   "source": [
    "Let us visualize the top 12 fastest growing neighborhoods in Seattle since 2011 by number of new permits applied."
   ]
  },
  {
   "cell_type": "code",
   "execution_count": 45,
   "metadata": {},
   "outputs": [
    {
     "data": {
      "image/png": "[encoded data removed]",
      "text/plain": [
       "<Figure size 864x288 with 1 Axes>"
      ]
     },
     "metadata": {},
     "output_type": "display_data"
    }
   ],
   "source": [
    "# Plot the Top 12 neighborhoods\n",
    "plt.figure(figsize=(12,4))\n",
    "sns.barplot(y='sub_region',x='PermitsCount', data=new_permits_subregion[0:15])\n",
    "plt.title(\"Top 12 fastest growing Seattle neighborhoods since 2011\", fontsize=15)\n",
    "plt.show()"
   ]
  },
  {
   "cell_type": "markdown",
   "metadata": {},
   "source": [
    "It will more informative to plot the number of new permits on a Seattle map.  \n",
    "  \n",
    "We need to merge the New Permits counts with the neighborhood data for this purpose."
   ]
  },
  {
   "cell_type": "code",
   "execution_count": 46,
   "metadata": {},
   "outputs": [],
   "source": [
    "# Merge the New Permits counts with the neighborhoods data\n",
    "subregion_map_data = neighborhoods.merge(new_permits_subregion, left_on='S_HOOD', right_on='sub_region')"
   ]
  },
  {
   "cell_type": "code",
   "execution_count": 47,
   "metadata": {},
   "outputs": [
    {
     "name": "stdout",
     "output_type": "stream",
     "text": [
      "Minimum number of Permits:  3\n",
      "Maximum number of Permits:  420\n"
     ]
    }
   ],
   "source": [
    "# Store the minimum and maximum permit counts \n",
    "min_count = subregion_map_data['PermitsCount'].min()\n",
    "max_count = subregion_map_data['PermitsCount'].max()\n",
    "\n",
    "print(\"Minimum number of Permits: \", min_count)\n",
    "print(\"Maximum number of Permits: \", max_count)"
   ]
  },
  {
   "cell_type": "markdown",
   "metadata": {},
   "source": [
    "For better readability on the map plot, we will only label the top 12 fastest growing neighborhoods on the map."
   ]
  },
  {
   "cell_type": "code",
   "execution_count": 48,
   "metadata": {},
   "outputs": [],
   "source": [
    "# Get the top 12 fastest growing subregions\n",
    "top_nbrs = new_permits_subregion[0:12]['sub_region']\n",
    "\n",
    "# Get the region boundaries for these top 12 sub regions\n",
    "label_coords = subregion_map_data[subregion_map_data['sub_region'].isin(top_nbrs)][['sub_region','geometry']]\n",
    "\n",
    "# Create a new column and populate with a randomly chosen representative point within each region\n",
    "label_coords['coords'] = label_coords['geometry'].apply(lambda x: x.representative_point().coords[:])\n",
    "label_coords['coords'] = [coords[0] for coords in label_coords['coords']]"
   ]
  },
  {
   "cell_type": "markdown",
   "metadata": {},
   "source": [
    "We will now plot the geographical choropleth using matplotlib."
   ]
  },
  {
   "cell_type": "code",
   "execution_count": 49,
   "metadata": {},
   "outputs": [
    {
     "data": {
      "image/png": "[encoded data removed]",
      "text/plain": [
       "<Figure size 720x864 with 2 Axes>"
      ]
     },
     "metadata": {},
     "output_type": "display_data"
    }
   ],
   "source": [
    "# Create figure and axes\n",
    "fig, ax = plt.subplots(1, figsize=(10, 12))\n",
    "# Plot the map using PermitsCount Data\n",
    "subregion_map_data.plot(column='PermitsCount', cmap='Oranges', linewidth=0.5, ax=ax, edgecolor='0.7')\n",
    "# Remove the axis\n",
    "ax.axis('off')\n",
    "# Add a title\n",
    "ax.set_title('New Building Permits in Seattle since 2011', fontdict={'fontsize': '18', 'fontweight' : '3'})\n",
    "# Create a legend using a Color Bar\n",
    "sm = plt.cm.ScalarMappable(cmap='Oranges', norm=plt.Normalize(vmin=min_count, vmax=max_count))\n",
    "# Set empty array\n",
    "sm._A = []\n",
    "# Add the colorbar to the figure\n",
    "cbar = fig.colorbar(sm)\n",
    "# Label the regions\n",
    "for idx, row in label_coords.iterrows():\n",
    "    plt.annotate(s=row['sub_region'], xy=row['coords'], horizontalalignment='center')"
   ]
  },
  {
   "cell_type": "markdown",
   "metadata": {},
   "source": [
    "#### Findings"
   ]
  },
  {
   "cell_type": "markdown",
   "metadata": {},
   "source": [
    "As seen in the above choropleth, we can make below observations:  \n",
    "    1) Adams near Old Ballard in the North West is the fastest growing neighborhood with 420 new building permits since 2011.  \n",
    "    2) Columbia City situated in the Rainier Valley in South Seattle is the second fastest growing neighborhood since 2011 with ~250 new building permits.  \n",
    "    3) Many other regions in the Rainier Valley like North Beacon Hill, Atlantic, Mid-Beacon Hill are also seeing significant growth by new permits in last six years.  \n",
    "    4) Apart from Adams, Fremont and Greenwood are seeing significant number of new permits in North Seattle.  \n",
    "    5) Areas around Downtown show less than 100 new building permits, indicating that these areas are already saturated."
   ]
  },
  {
   "cell_type": "code",
   "execution_count": 50,
   "metadata": {},
   "outputs": [],
   "source": [
    "# Save the map as jpeg file\n",
    "fig.savefig(\"Seattle_New_Permits_Map.jpg\", dpi=400)"
   ]
  },
  {
   "cell_type": "markdown",
   "metadata": {},
   "source": [
    "### Conclusion"
   ]
  },
  {
   "cell_type": "markdown",
   "metadata": {},
   "source": [
    "In conclusion, we can say that Seattle has seen tremendous growth since the recession back in 2009. There has been a steady increase in new building permits for multifamily homes till 2016 and a slight decrease for single family homes till 2016. A shapr rise is seen in 2017 in both these permit types in 2017. Since the year used in this analysis is the year in which the permit was applied, we can make a reasonable assumption that this increase in permits in 2017 will translate or might have translated into an increase in ongoing construction projects. This gives us a very clear picture of the growth of Seattle in recent years.\n",
    "\n",
    "By looking at the number of new completed building permits, we can estimate that the fastest growing neighborhoods in recent years are the Adams in Old Ballard, Greenwood and Fremont in North Seattle. In South Seattle, Columbia City and other neighboring regions in Rainier Valley are seeing significant number of new permits, indicating newly developed neighborhoods. The significantly higher number of building permits in these areas can be a clear indication of where people are moving to or buying/building new houses.\n",
    "\n",
    "The above findings are based on a messy dataset with multiple shortcomings. Specifically the dates column had missing values which might have led to skipping some valid permits. There is no way of knowing if any other permits are missing from the original dataset due to reasons unknown. More information about the data collection and representation should be obtained from the data owner in order to validate these findings. This work can be expanded if data about completed construction projects can be made available. Future work can include augmenting this dataset with data about schools, parks, traffic to understand and address the main issues with urban planning."
   ]
  },
  {
   "cell_type": "markdown",
   "metadata": {},
   "source": [
    "### References:  "
   ]
  },
  {
   "cell_type": "markdown",
   "metadata": {},
   "source": [
    "<sup>1</sup>https://www.seattletimes.com/seattle-news/data/114000-more-people-seattle-now-this-decades-fastest-growing-big-city-in-all-of-united-states/  \n",
    "http://www.seattle.gov/sdci   \n",
    "https://data.seattle.gov/Permitting/Building-Permits/76t5-zqzr  \n",
    "https://dev.socrata.com/foundry/data.seattle.gov/k44w-2dcq  \n",
    "https://gis.stackexchange.com/questions/244677/performing-spatial-join-match-points-from-dataframe-to-polygons-using-python\n",
    "https://towardsdatascience.com/lets-make-a-map-using-geopandas-pandas-and-matplotlib-to-make-a-chloropleth-map-dddc31c1983d"
   ]
  }
 ],
 "metadata": {
  "kernelspec": {
   "display_name": "Python 3",
   "language": "python",
   "name": "python3"
  },
  "language_info": {
   "codemirror_mode": {
    "name": "ipython",
    "version": 3
   },
   "file_extension": ".py",
   "mimetype": "text/x-python",
   "name": "python",
   "nbconvert_exporter": "python",
   "pygments_lexer": "ipython3",
   "version": "3.6.4"
  }
 },
 "nbformat": 4,
 "nbformat_minor": 2
}
